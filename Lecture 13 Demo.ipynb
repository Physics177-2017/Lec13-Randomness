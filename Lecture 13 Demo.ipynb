{
 "cells": [
  {
   "cell_type": "code",
   "execution_count": 3,
   "metadata": {
    "collapsed": true
   },
   "outputs": [],
   "source": [
    "from random import *\n",
    "\n",
    "\n",
    "def PiEstimate(nSample):\n",
    "    count = 0\n",
    "    for i in range(nSample):\n",
    "        x=random()\n",
    "        y=random()\n",
    "        if x**2 + y**2 <=1:\n",
    "            count +=1\n",
    "    return 4*count/nSample"
   ]
  },
  {
   "cell_type": "code",
   "execution_count": 9,
   "metadata": {},
   "outputs": [
    {
     "name": "stdout",
     "output_type": "stream",
     "text": [
      "3.132\n",
      "3.1676\n",
      "3.1388\n",
      "3.1632\n",
      "3.1316\n",
      "3.1324\n",
      "3.1168\n",
      "3.1412\n",
      "3.156\n",
      "3.1508\n"
     ]
    }
   ],
   "source": [
    "N=10000\n",
    "for i in range(10):\n",
    "    print(PiEstimate(N))"
   ]
  },
  {
   "cell_type": "code",
   "execution_count": 7,
   "metadata": {},
   "outputs": [
    {
     "data": {
      "text/plain": [
       "0.3100750921707528"
      ]
     },
     "execution_count": 7,
     "metadata": {},
     "output_type": "execute_result"
    }
   ],
   "source": [
    "random()"
   ]
  },
  {
   "cell_type": "code",
   "execution_count": null,
   "metadata": {
    "collapsed": true
   },
   "outputs": [],
   "source": []
  }
 ],
 "metadata": {
  "kernelspec": {
   "display_name": "Python 3",
   "language": "python",
   "name": "python3"
  },
  "language_info": {
   "codemirror_mode": {
    "name": "ipython",
    "version": 3
   },
   "file_extension": ".py",
   "mimetype": "text/x-python",
   "name": "python",
   "nbconvert_exporter": "python",
   "pygments_lexer": "ipython3",
   "version": "3.4.3"
  }
 },
 "nbformat": 4,
 "nbformat_minor": 2
}
